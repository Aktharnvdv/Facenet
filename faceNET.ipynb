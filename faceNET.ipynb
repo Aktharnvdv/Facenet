{
  "cells": [
    {
      "cell_type": "code",
      "execution_count": null,
      "metadata": {
        "colab": {
          "base_uri": "https://localhost:8080/"
        },
        "id": "aiiYEsBSls4B",
        "outputId": "a6035465-55fb-44b4-860f-87b6badc3e4d"
      },
      "outputs": [
        {
          "output_type": "stream",
          "name": "stdout",
          "text": [
            "Mounted at /content/drive\n"
          ]
        }
      ],
      "source": [
        "from google.colab import drive\n",
        "drive.mount('/content/drive')"
      ]
    },
    {
      "cell_type": "code",
      "execution_count": null,
      "metadata": {
        "colab": {
          "base_uri": "https://localhost:8080/"
        },
        "id": "5fExfqLMacSF",
        "outputId": "74ee6348-5ce0-48f5-8de8-180d47f8cf0a"
      },
      "outputs": [
        {
          "output_type": "stream",
          "name": "stdout",
          "text": [
            "Collecting mtcnn\n",
            "  Downloading mtcnn-0.1.1-py3-none-any.whl (2.3 MB)\n",
            "\u001b[K     |████████████████████████████████| 2.3 MB 7.7 MB/s \n",
            "\u001b[?25hRequirement already satisfied: opencv-python>=4.1.0 in /usr/local/lib/python3.7/dist-packages (from mtcnn) (4.1.2.30)\n",
            "Requirement already satisfied: keras>=2.0.0 in /usr/local/lib/python3.7/dist-packages (from mtcnn) (2.8.0)\n",
            "Requirement already satisfied: numpy>=1.14.5 in /usr/local/lib/python3.7/dist-packages (from opencv-python>=4.1.0->mtcnn) (1.21.6)\n",
            "Installing collected packages: mtcnn\n",
            "Successfully installed mtcnn-0.1.1\n"
          ]
        }
      ],
      "source": [
        "!pip install mtcnn"
      ]
    },
    {
      "cell_type": "code",
      "execution_count": null,
      "metadata": {
        "id": "BPaOB85LcZSI"
      },
      "outputs": [],
      "source": [
        "import os\n",
        "import tensorflow as tf\n",
        "import matplotlib.pyplot as plt\n",
        "from PIL import Image\n",
        "import numpy as np\n",
        "import matplotlib.image as img\n",
        "import keras\n",
        "from keras import backend as K\n",
        "from keras.models import Model\n",
        "from keras.layers import Input, Layer\n",
        "import imageio\n",
        "import mtcnn\n",
        "import cv2\n",
        "import matplotlib\n",
        "import sys\n",
        "sys.path.insert(0,'/content/drive/My Drive')\n",
        "from triplet import batch_hard_triplet_loss\n",
        "from Res_Model import create_model\n",
        "%matplotlib inline\n",
        "from sklearn.metrics import f1_score, accuracy_score"
      ]
    },
    {
      "cell_type": "code",
      "execution_count": null,
      "metadata": {
        "colab": {
          "base_uri": "https://localhost:8080/"
        },
        "id": "09LMtjdNVwMe",
        "outputId": "e64a3a66-f6a4-4ab6-a1f3-f14b20ce5583"
      },
      "outputs": [
        {
          "output_type": "stream",
          "name": "stdout",
          "text": [
            "0.1.0\n"
          ]
        }
      ],
      "source": [
        "print(mtcnn.__version__)\n",
        "\n",
        "def draw_facebox(filename, result_list):\n",
        "  for result in result_list:\n",
        "    x, y, width, height = result['box']\n",
        "    img = Image.open(f\"{filename}\") \n",
        "    img_res = img.crop((x, y, x + 185 ,y + 185))\n",
        "    return img_res"
      ]
    },
    {
      "cell_type": "code",
      "execution_count": null,
      "metadata": {
        "id": "m6EX9NhLp9wG"
      },
      "outputs": [],
      "source": [
        "def plot_accuracy_threshold(LABEL,IMAGE,model):\n",
        "  distances = [] \n",
        "  identical = [] \n",
        "\n",
        "  num = len(LABEL)\n",
        "  embedded = model.predict(np.array(IMAGE))\n",
        "\n",
        "  for i in range(num - 1):\n",
        "    for j in range(1, num):\n",
        "      distances.append(distance(embedded[i], embedded[j]))\n",
        "      identical.append(1 if LABEL[i] == LABEL[j] else 0)\n",
        "        \n",
        "  distances = np.array(distances)\n",
        "  identical = np.array(identical)\n",
        "\n",
        "  thresholds = np.arange(0.3, 1.0, 0.01)\n",
        "\n",
        "  f1_scores = [f1_score(identical, distances < t) for t in thresholds]\n",
        "  acc_scores = [accuracy_score(identical, distances < t) for t in thresholds]\n",
        "\n",
        "  opt_idx = np.argmax(f1_scores)\n",
        "\n",
        "  opt_tau = thresholds[opt_idx]\n",
        "\n",
        "  opt_acc = accuracy_score(identical, distances < opt_tau)\n",
        "\n",
        "  \n",
        "  plt.plot(thresholds, f1_scores, label='F1 score');\n",
        "  plt.plot(thresholds, acc_scores, label='Accuracy');\n",
        "  plt.axvline(x=opt_tau, linestyle='--', lw=1, c='lightgrey', label='Threshold')\n",
        "  plt.title(f'Accuracy at threshold {opt_tau:.2f} = {opt_acc:.3f}');\n",
        "  plt.xlabel('Distance threshold')\n",
        "  plt.legend();"
      ]
    },
    {
      "cell_type": "code",
      "execution_count": null,
      "metadata": {
        "id": "t1Ik45iuw_7Z"
      },
      "outputs": [],
      "source": [
        "def distance(emb1, emb2):\n",
        "    return np.sum(np.square(emb1 - emb2))"
      ]
    },
    {
      "cell_type": "code",
      "execution_count": null,
      "metadata": {
        "id": "7ankE3FSKvxh"
      },
      "outputs": [],
      "source": [
        "class TripletLossLayer(Layer):\n",
        "  \n",
        "  def __init__(self, alpha, **kwargs):\n",
        "    self.alpha = alpha\n",
        "    super(TripletLossLayer, self).__init__(**kwargs)\n",
        "    \n",
        "  def triplet_loss(self, inputs):\n",
        "    labels , embeddings = inputs\n",
        "    return  batch_hard_triplet_loss(labels, embeddings, margin=.2, squared=False)\n",
        "    \n",
        "  def call(self, inputs):\n",
        "    loss = self.triplet_loss(inputs)\n",
        "    self.add_loss(loss)\n",
        "    return loss"
      ]
    },
    {
      "cell_type": "code",
      "execution_count": null,
      "metadata": {
        "id": "_Eom_bLFIiQU"
      },
      "outputs": [],
      "source": [
        "\n",
        "in_p = Input(shape=(185,185,3))\n",
        "y = Input(shape = (48,1))\n",
        "\n",
        "nn4_small2 = create_model()\n",
        "\n",
        "embeddings = nn4_small2(in_p)\n",
        "\n",
        "triplet_loss_layer = TripletLossLayer(alpha=0.2, name='triplet_loss_layer')([y , embeddings])\n",
        "nn4_small2_train = Model(inputs= [in_p , y] , outputs =  [triplet_loss_layer , embeddings])\n",
        "nn4_small2_train.compile(loss=None, optimizer='adagrad')"
      ]
    },
    {
      "cell_type": "code",
      "execution_count": null,
      "metadata": {
        "id": "MdZ45zxoaAO0"
      },
      "outputs": [],
      "source": [
        "from keras.models import model_from_json"
      ]
    },
    {
      "cell_type": "code",
      "source": [
        "folder = \"/content/drive/MyDrive/face_dataset\"\n",
        "\n",
        "for i in range(160,161):\n",
        "  LABEL = []\n",
        "  IMAGE = []\n",
        "  for filename in os.listdir(folder+f\"/{i}\"):\n",
        "    LABEL.append(int(filename.split(\"_\")[0]))  \n",
        "    pixels = plt.imread(folder+f\"/{i}\"+f\"/{filename}\")\n",
        "    detector = mtcnn.MTCNN()\n",
        "    faces = detector.detect_faces(pixels)\n",
        "    IMAGE.append(np.array(draw_facebox(folder+f\"/{i}\"+f\"/{filename}\", faces)))\n",
        "    \n",
        "  print(f\"batch {i}\")\n",
        "  nn4_small2_train.fit([np.array(IMAGE) ,np.array(LABEL)] , epochs=5,steps_per_epoch=10)\n",
        "  if i%5==0:\n",
        "    model_json = nn4_small2.to_json()\n",
        "    with open(\"/content/drive/MyDrive/FACENET_MODEL/model.json\", \"w\") as json_file:\n",
        "      json_file.write(model_json)\n",
        "    nn4_small2.save_weights(\"/content/drive/MyDrive/FACENET_MODEL/model.h5\")\n",
        "    print(\"Saved model to disk\")"
      ],
      "metadata": {
        "colab": {
          "base_uri": "https://localhost:8080/"
        },
        "id": "nziRPTrIKFPI",
        "outputId": "5d83b676-428b-46a9-b855-f7f89b8bf54b"
      },
      "execution_count": null,
      "outputs": [
        {
          "output_type": "stream",
          "name": "stdout",
          "text": [
            "WARNING:tensorflow:5 out of the last 10 calls to <function Model.make_predict_function.<locals>.predict_function at 0x7fe55aaa0290> triggered tf.function retracing. Tracing is expensive and the excessive number of tracings could be due to (1) creating @tf.function repeatedly in a loop, (2) passing tensors with different shapes, (3) passing Python objects instead of tensors. For (1), please define your @tf.function outside of the loop. For (2), @tf.function has experimental_relax_shapes=True option that relaxes argument shapes that can avoid unnecessary retracing. For (3), please refer to https://www.tensorflow.org/guide/function#controlling_retracing and https://www.tensorflow.org/api_docs/python/tf/function for  more details.\n",
            "WARNING:tensorflow:6 out of the last 11 calls to <function Model.make_predict_function.<locals>.predict_function at 0x7fe55aa6c200> triggered tf.function retracing. Tracing is expensive and the excessive number of tracings could be due to (1) creating @tf.function repeatedly in a loop, (2) passing tensors with different shapes, (3) passing Python objects instead of tensors. For (1), please define your @tf.function outside of the loop. For (2), @tf.function has experimental_relax_shapes=True option that relaxes argument shapes that can avoid unnecessary retracing. For (3), please refer to https://www.tensorflow.org/guide/function#controlling_retracing and https://www.tensorflow.org/api_docs/python/tf/function for  more details.\n",
            "batch 160\n"
          ]
        }
      ]
    },
    {
      "cell_type": "code",
      "execution_count": null,
      "metadata": {
        "colab": {
          "base_uri": "https://localhost:8080/",
          "height": 312
        },
        "id": "AKbjHBQ9AtHm",
        "outputId": "9a498af8-4a48-4d3f-a3a1-c66caad599b4"
      },
      "outputs": [
        {
          "output_type": "stream",
          "name": "stdout",
          "text": [
            "Loaded model from disk\n"
          ]
        },
        {
          "output_type": "display_data",
          "data": {
            "text/plain": [
              "<Figure size 432x288 with 1 Axes>"
            ],
            "image/png": "[encoded data removed]"
          },
          "metadata": {
            "needs_background": "light"
          }
        }
      ],
      "source": [
        "json_file = open('/content/drive/MyDrive/FACENET_MODEL/model.json', 'r')\n",
        "loaded_model_json = json_file.read()\n",
        "json_file.close()\n",
        "nn4_small2 = model_from_json(loaded_model_json)\n",
        "nn4_small2.load_weights(\"/content/drive/MyDrive/FACENET_MODEL/model.h5\")\n",
        "print(\"Loaded model from disk\")    \n",
        "\n",
        "plot_accuracy_threshold(LABEL,IMAGE,nn4_small2)"
      ]
    }
  ],
  "metadata": {
    "accelerator": "GPU",
    "colab": {
      "collapsed_sections": [],
      "provenance": []
    },
    "kernelspec": {
      "display_name": "Python 3",
      "name": "python3"
    },
    "language_info": {
      "name": "python"
    }
  },
  "nbformat": 4,
  "nbformat_minor": 0
}